{
  "nbformat": 4,
  "nbformat_minor": 0,
  "metadata": {
    "colab": {
      "provenance": [],
      "authorship_tag": "ABX9TyM5qTNcj7ef2V/X9GgbKzOv",
      "include_colab_link": true
    },
    "kernelspec": {
      "name": "python3",
      "display_name": "Python 3"
    },
    "language_info": {
      "name": "python"
    }
  },
  "cells": [
    {
      "cell_type": "markdown",
      "metadata": {
        "id": "view-in-github",
        "colab_type": "text"
      },
      "source": [
        "<a href=\"https://colab.research.google.com/github/srnarasim/DataProcessingComparison/blob/main/scenario1.ipynb\" target=\"_parent\"><img src=\"https://colab.research.google.com/assets/colab-badge.svg\" alt=\"Open In Colab\"/></a>"
      ]
    },
    {
      "cell_type": "code",
      "execution_count": 3,
      "metadata": {
        "colab": {
          "base_uri": "https://localhost:8080/"
        },
        "id": "jfmr4lngb4Zw",
        "outputId": "2da2be27-f427-448c-ff1c-1de8147ff1dd"
      },
      "outputs": [
        {
          "output_type": "stream",
          "name": "stdout",
          "text": [
            "Requirement already satisfied: polars in /usr/local/lib/python3.11/dist-packages (1.21.0)\n",
            "Requirement already satisfied: duckdb in /usr/local/lib/python3.11/dist-packages (1.2.2)\n",
            "Requirement already satisfied: pyarrow in /usr/local/lib/python3.11/dist-packages (18.1.0)\n"
          ]
        }
      ],
      "source": [
        "!pip install polars duckdb pyarrow"
      ]
    },
    {
      "cell_type": "markdown",
      "source": [
        "# 🔬 Scenario 1: Interactive Data Science Analysis\n",
        "\n",
        "\n",
        "---\n",
        "\n"
      ],
      "metadata": {
        "id": "tVbGCQ4pdHlB"
      }
    },
    {
      "cell_type": "code",
      "source": [
        "# Generate realistic sample data\n",
        "import pandas as pd\n",
        "import numpy as np\n",
        "from datetime import datetime, timedelta\n",
        "\n",
        "\n",
        "# Generate realistic e-commerce transaction data\n",
        "def generate_sample_data(n_rows=10_000_000):\n",
        "    \"\"\"Generate realistic e-commerce transaction data for analysis\"\"\"\n",
        "    np.random.seed(42)  # Reproducible results\n",
        "\n",
        "    print(f\"Generating {n_rows:,} realistic e-commerce transactions...\")\n",
        "\n",
        "    # Realistic customer and product distributions\n",
        "    n_customers = 50_000\n",
        "    n_products = 2_000\n",
        "\n",
        "    customers = [f\"CUST_{i:06d}\" for i in range(1, n_customers + 1)]\n",
        "    products = [f\"PROD_{i:04d}\" for i in range(1, n_products + 1)]\n",
        "    categories = ['Electronics', 'Clothing', 'Books', 'Home', 'Sports', 'Beauty']\n",
        "\n",
        "    # Create realistic transaction data\n",
        "    data = {\n",
        "        'customer_id': np.random.choice(customers, n_rows),\n",
        "        'product_id': np.random.choice(products, n_rows),\n",
        "        'product_category': np.random.choice(categories, n_rows),\n",
        "        'order_total': np.random.lognormal(3, 1, n_rows).round(2),\n",
        "        'order_date': [\n",
        "            datetime(2023, 1, 1) + timedelta(days=np.random.randint(0, 730))\n",
        "            for _ in range(n_rows)\n",
        "        ],\n",
        "        'order_id': [f\"ORD_{i:08d}\" for i in range(1, n_rows + 1)]\n",
        "    }\n",
        "\n",
        "    df = pd.DataFrame(data)\n",
        "    print(f\"✅ Generated dataset: {len(df):,} rows, ~{df.memory_usage(deep=True).sum() / 1024**2:.1f}MB\")\n",
        "    return df"
      ],
      "metadata": {
        "id": "D4Nn7XCGcFKs"
      },
      "execution_count": 4,
      "outputs": []
    },
    {
      "cell_type": "code",
      "source": [
        "# Generate the dataset\n",
        "transactions_df = generate_sample_data()"
      ],
      "metadata": {
        "colab": {
          "base_uri": "https://localhost:8080/"
        },
        "id": "gWIGfRu7c9RH",
        "outputId": "d691722d-f240-451c-f6fa-cffff3a09ee7"
      },
      "execution_count": 5,
      "outputs": [
        {
          "output_type": "stream",
          "name": "stdout",
          "text": [
            "Generating 10,000,000 realistic e-commerce transactions...\n",
            "✅ Generated dataset: 10,000,000 rows, ~2695.7MB\n"
          ]
        }
      ]
    },
    {
      "cell_type": "markdown",
      "source": [
        "# 📊 Dataset Overview"
      ],
      "metadata": {
        "id": "C9atZ3MVdcoY"
      }
    },
    {
      "cell_type": "code",
      "source": [
        "print(f\"Shape: {transactions_df.shape}\")\n",
        "print(f\"Date range: {transactions_df['order_date'].min()} to {transactions_df['order_date'].max()}\")\n",
        "print(f\"Unique customers: {transactions_df['customer_id'].nunique():,}\")\n",
        "print(f\"Unique products: {transactions_df['product_id'].nunique():,}\")"
      ],
      "metadata": {
        "colab": {
          "base_uri": "https://localhost:8080/"
        },
        "id": "ZkHEt-0cdWUh",
        "outputId": "49ad7279-5d3d-4005-dcc2-a1c68bbc83bc"
      },
      "execution_count": 6,
      "outputs": [
        {
          "output_type": "stream",
          "name": "stdout",
          "text": [
            "Shape: (10000000, 6)\n",
            "Date range: 2023-01-01 00:00:00 to 2024-12-30 00:00:00\n",
            "Unique customers: 50,000\n",
            "Unique products: 2,000\n"
          ]
        }
      ]
    },
    {
      "cell_type": "code",
      "source": [
        "# Save for use across different tools\n",
        "transactions_df.to_csv('transactions.csv', index=False)\n",
        "transactions_df.to_parquet('transactions.parquet', index=False)"
      ],
      "metadata": {
        "id": "64sXajmsdqKp"
      },
      "execution_count": 7,
      "outputs": []
    },
    {
      "cell_type": "markdown",
      "source": [
        "# 🐼 PANDAS APPROACH - Customer Lifetime Value Analysis\n",
        "\n",
        "\n",
        "---\n",
        "\n"
      ],
      "metadata": {
        "id": "BGzhXzmOdu0D"
      }
    },
    {
      "cell_type": "code",
      "source": [
        "import time\n",
        "def pandas_clv_analysis(df):\n",
        "    \"\"\"Customer Lifetime Value analysis using Pandas\"\"\"\n",
        "    start_time = time.time()\n",
        "\n",
        "    # Convert to datetime if not already\n",
        "    df['order_date'] = pd.to_datetime(df['order_date'])\n",
        "\n",
        "    # Complex aggregation with multiple metrics\n",
        "    clv_data = (df.groupby('customer_id')\n",
        "                .agg({\n",
        "                    'order_total': ['sum', 'count', 'mean', 'std'],\n",
        "                    'order_date': ['min', 'max'],\n",
        "                    'product_category': 'nunique'\n",
        "                })\n",
        "                .round(2))\n",
        "\n",
        "    # Flatten column names\n",
        "    clv_data.columns = ['total_spent', 'order_count', 'avg_order', 'order_std',\n",
        "                        'first_order', 'last_order', 'categories_purchased']\n",
        "\n",
        "    # Calculate days active\n",
        "    clv_data['days_active'] = (clv_data['last_order'] - clv_data['first_order']).dt.days\n",
        "\n",
        "    # Calculate customer lifetime value score\n",
        "    clv_data['clv_score'] = (\n",
        "        clv_data['total_spent'] * 0.4 +\n",
        "        clv_data['order_count'] * 10 * 0.3 +\n",
        "        clv_data['categories_purchased'] * 20 * 0.3\n",
        "    )\n",
        "\n",
        "    # Filter active customers (more than 30 days, multiple orders)\n",
        "    active_customers = clv_data[\n",
        "        (clv_data['days_active'] > 30) &\n",
        "        (clv_data['order_count'] > 1)\n",
        "    ].copy()\n",
        "\n",
        "    execution_time = time.time() - start_time\n",
        "\n",
        "    return active_customers, execution_time"
      ],
      "metadata": {
        "id": "c5wckBB9d5WS"
      },
      "execution_count": 8,
      "outputs": []
    },
    {
      "cell_type": "code",
      "source": [
        "# Execute Pandas analysis\n",
        "pandas_result, pandas_time = pandas_clv_analysis(transactions_df)\n",
        "\n",
        "print(f\"⏱️  Execution time: {pandas_time:.2f} seconds\")\n",
        "print(f\"📈 Active customers identified: {len(pandas_result):,}\")\n",
        "print(f\"💾 Memory usage: ~{pandas_result.memory_usage(deep=True).sum() / 1024**2:.1f}MB\")\n",
        "\n",
        "print(\"\\nTop 10 customers by CLV score:\")\n",
        "print(pandas_result.nlargest(10, 'clv_score')[['total_spent', 'order_count', 'clv_score']])"
      ],
      "metadata": {
        "colab": {
          "base_uri": "https://localhost:8080/"
        },
        "id": "HQlKQnaZd_8O",
        "outputId": "e1ec87d4-539e-4936-f399-11dea7fcbfa7"
      },
      "execution_count": 9,
      "outputs": [
        {
          "output_type": "stream",
          "name": "stdout",
          "text": [
            "⏱️  Execution time: 2.75 seconds\n",
            "📈 Active customers identified: 50,000\n",
            "💾 Memory usage: ~7.7MB\n",
            "\n",
            "Top 10 customers by CLV score:\n",
            "             total_spent  order_count  clv_score\n",
            "customer_id                                     \n",
            "CUST_000558     10749.30          245   5070.720\n",
            "CUST_028189     11200.19          171   5029.076\n",
            "CUST_028789     10290.54          239   4869.216\n",
            "CUST_021851     10267.69          234   4845.076\n",
            "CUST_022942     10001.69          254   4798.676\n",
            "CUST_041101     10086.87          236   4778.748\n",
            "CUST_029530      9904.78          247   4738.912\n",
            "CUST_026757     10139.51          212   4727.804\n",
            "CUST_038170      9928.63          230   4697.452\n",
            "CUST_020482      9873.33          235   4690.332\n"
          ]
        }
      ]
    },
    {
      "cell_type": "markdown",
      "source": [
        "# ⚡ POLARS APPROACH - Customer Lifetime Value Analysis\n",
        "\n",
        "\n",
        "---\n",
        "\n"
      ],
      "metadata": {
        "id": "jrimNVnFefDc"
      }
    },
    {
      "cell_type": "code",
      "source": [
        "import time\n",
        "import polars as pl\n",
        "\n",
        "def polars_clv_analysis(df_path):\n",
        "    \"\"\"Customer Lifetime Value analysis using Polars\"\"\"\n",
        "    start_time = time.time()\n",
        "\n",
        "    # Read data with Polars\n",
        "    df = pl.read_parquet(df_path)\n",
        "\n",
        "    # Polars-style aggregation with method chaining\n",
        "    clv_data = (df.group_by('customer_id')\n",
        "                .agg([\n",
        "                    pl.col('order_total').sum().alias('total_spent'),\n",
        "                    pl.col('order_total').count().alias('order_count'),\n",
        "                    pl.col('order_total').mean().alias('avg_order'),\n",
        "                    pl.col('order_total').std().alias('order_std'),\n",
        "                    pl.col('order_date').min().alias('first_order'),\n",
        "                    pl.col('order_date').max().alias('last_order'),\n",
        "                    pl.col('product_category').n_unique().alias('categories_purchased')\n",
        "                ])\n",
        "                .with_columns([\n",
        "                    (pl.col('last_order') - pl.col('first_order')).dt.total_days().alias('days_active')\n",
        "                ])\n",
        "                .with_columns([\n",
        "                    (pl.col('total_spent') * 0.4 +\n",
        "                     pl.col('order_count') * 10 * 0.3 +\n",
        "                     pl.col('categories_purchased') * 20 * 0.3).alias('clv_score')\n",
        "                ])\n",
        "                .filter(\n",
        "                    (pl.col('days_active') > 30) &\n",
        "                    (pl.col('order_count') > 1)\n",
        "                ))\n",
        "\n",
        "    execution_time = time.time() - start_time\n",
        "\n",
        "    return clv_data, execution_time"
      ],
      "metadata": {
        "id": "yTsD4pGxelSu"
      },
      "execution_count": 10,
      "outputs": []
    },
    {
      "cell_type": "code",
      "source": [
        "# Execute Polars analysis\n",
        "polars_result, polars_time = polars_clv_analysis('transactions.parquet')\n",
        "\n",
        "print(f\"⏱️  Execution time: {polars_time:.2f} seconds\")\n",
        "print(f\"📈 Active customers identified: {polars_result.height:,}\")\n",
        "print(f\"⚡ Performance improvement: {pandas_time/polars_time:.1f}x faster than Pandas\")\n",
        "\n",
        "print(\"\\nTop 10 customers by CLV score:\")\n",
        "print(polars_result.sort('clv_score', descending=True).head(10).select(['total_spent', 'order_count', 'clv_score']))"
      ],
      "metadata": {
        "colab": {
          "base_uri": "https://localhost:8080/"
        },
        "id": "Qiz17MK3ewCR",
        "outputId": "7149b99f-9d3a-4654-e148-b2af58466c74"
      },
      "execution_count": 11,
      "outputs": [
        {
          "output_type": "stream",
          "name": "stdout",
          "text": [
            "⏱️  Execution time: 1.25 seconds\n",
            "📈 Active customers identified: 50,000\n",
            "⚡ Performance improvement: 2.2x faster than Pandas\n",
            "\n",
            "Top 10 customers by CLV score:\n",
            "shape: (10, 3)\n",
            "┌─────────────┬─────────────┬───────────┐\n",
            "│ total_spent ┆ order_count ┆ clv_score │\n",
            "│ ---         ┆ ---         ┆ ---       │\n",
            "│ f64         ┆ u32         ┆ f64       │\n",
            "╞═════════════╪═════════════╪═══════════╡\n",
            "│ 10749.3     ┆ 245         ┆ 5070.72   │\n",
            "│ 11200.19    ┆ 171         ┆ 5029.076  │\n",
            "│ 10290.54    ┆ 239         ┆ 4869.216  │\n",
            "│ 10267.69    ┆ 234         ┆ 4845.076  │\n",
            "│ 10001.69    ┆ 254         ┆ 4798.676  │\n",
            "│ 10086.87    ┆ 236         ┆ 4778.748  │\n",
            "│ 9904.78     ┆ 247         ┆ 4738.912  │\n",
            "│ 10139.51    ┆ 212         ┆ 4727.804  │\n",
            "│ 9928.63     ┆ 230         ┆ 4697.452  │\n",
            "│ 9873.33     ┆ 235         ┆ 4690.332  │\n",
            "└─────────────┴─────────────┴───────────┘\n"
          ]
        }
      ]
    },
    {
      "cell_type": "markdown",
      "source": [
        "# 🦆 DUCKDB APPROACH - Customer Lifetime Value Analysis\n",
        "\n",
        "\n",
        "---\n",
        "\n"
      ],
      "metadata": {
        "id": "2FWGM5ByfBKx"
      }
    },
    {
      "cell_type": "code",
      "source": [
        "import time\n",
        "import duckdb\n",
        "\n",
        "def duckdb_clv_analysis():\n",
        "    \"\"\"Customer Lifetime Value analysis using DuckDB SQL\"\"\"\n",
        "    start_time = time.time()\n",
        "\n",
        "    # Connect to DuckDB and register the parquet file\n",
        "    conn = duckdb.connect()\n",
        "\n",
        "    # DuckDB can directly query parquet files\n",
        "    query = \"\"\"\n",
        "    SELECT\n",
        "        customer_id,\n",
        "        SUM(order_total) as total_spent,\n",
        "        COUNT(*) as order_count,\n",
        "        AVG(order_total) as avg_order,\n",
        "        STDDEV(order_total) as order_std,\n",
        "        MIN(order_date) as first_order,\n",
        "        MAX(order_date) as last_order,\n",
        "        COUNT(DISTINCT product_category) as categories_purchased,\n",
        "        DATE_DIFF('day', MIN(order_date), MAX(order_date)) as days_active,\n",
        "        (SUM(order_total) * 0.4 +\n",
        "         COUNT(*) * 10 * 0.3 +\n",
        "         COUNT(DISTINCT product_category) * 20 * 0.3) as clv_score\n",
        "    FROM 'transactions.parquet'\n",
        "    GROUP BY customer_id\n",
        "    HAVING days_active > 30 AND order_count > 1\n",
        "    ORDER BY clv_score DESC\n",
        "    \"\"\"\n",
        "\n",
        "    result = conn.execute(query).fetchdf()\n",
        "    execution_time = time.time() - start_time\n",
        "\n",
        "    return result, execution_time"
      ],
      "metadata": {
        "id": "T-BKawzufG0d"
      },
      "execution_count": 12,
      "outputs": []
    },
    {
      "cell_type": "code",
      "source": [
        "# Execute DuckDB analysis\n",
        "duckdb_result, duckdb_time = duckdb_clv_analysis()\n",
        "\n",
        "print(f\"⏱️  Execution time: {duckdb_time:.2f} seconds\")\n",
        "print(f\"📈 Active customers identified: {len(duckdb_result):,}\")\n",
        "print(f\"🚀 Performance improvement: {pandas_time/duckdb_time:.1f}x faster than Pandas\")\n",
        "\n",
        "print(\"\\nTop 10 customers by CLV score:\")\n",
        "print(duckdb_result.head(10)[['total_spent', 'order_count', 'clv_score']])\n",
        "\n",
        "print(\"\\n\" + \"=\"*60)\n",
        "print(\"📊 PERFORMANCE COMPARISON\")\n",
        "print(\"=\"*60)"
      ],
      "metadata": {
        "colab": {
          "base_uri": "https://localhost:8080/"
        },
        "id": "ZqUdnbSbfWmL",
        "outputId": "103f8074-ab1c-46f1-af93-e5bf3c92f9ca"
      },
      "execution_count": 13,
      "outputs": [
        {
          "output_type": "stream",
          "name": "stdout",
          "text": [
            "⏱️  Execution time: 1.72 seconds\n",
            "📈 Active customers identified: 50,000\n",
            "🚀 Performance improvement: 1.6x faster than Pandas\n",
            "\n",
            "Top 10 customers by CLV score:\n",
            "   total_spent  order_count  clv_score\n",
            "0     10749.30          245   5070.720\n",
            "1     11200.19          171   5029.076\n",
            "2     10290.54          239   4869.216\n",
            "3     10267.69          234   4845.076\n",
            "4     10001.69          254   4798.676\n",
            "5     10086.87          236   4778.748\n",
            "6      9904.78          247   4738.912\n",
            "7     10139.51          212   4727.804\n",
            "8      9928.63          230   4697.452\n",
            "9      9873.33          235   4690.332\n",
            "\n",
            "============================================================\n",
            "📊 PERFORMANCE COMPARISON\n",
            "============================================================\n"
          ]
        }
      ]
    },
    {
      "cell_type": "markdown",
      "source": [
        "# 📊 PERFORMANCE COMPARISON\n",
        "\n",
        "\n",
        "---\n",
        "\n"
      ],
      "metadata": {
        "id": "XQtpqHpwfe6o"
      }
    },
    {
      "cell_type": "code",
      "source": [
        "# Create performance comparison\n",
        "performance_data = {\n",
        "    'Tool': ['Pandas', 'Polars', 'DuckDB'],\n",
        "    'Execution Time (s)': [pandas_time, polars_time, duckdb_time],\n",
        "    'Speed vs Pandas': [1.0, pandas_time/polars_time, pandas_time/duckdb_time],\n",
        "    'Memory Efficiency': ['Baseline', 'Better', 'Good'],\n",
        "    'Learning Curve': ['Easy', 'Moderate', 'Easy (SQL)']\n",
        "}\n",
        "performance_df = pd.DataFrame(performance_data)\n",
        "print(performance_df.to_string(index=False))"
      ],
      "metadata": {
        "colab": {
          "base_uri": "https://localhost:8080/"
        },
        "id": "HYE9FATKfk9B",
        "outputId": "1d790fd9-0268-4032-9307-4b5dbce3ac12"
      },
      "execution_count": 14,
      "outputs": [
        {
          "output_type": "stream",
          "name": "stdout",
          "text": [
            "  Tool  Execution Time (s)  Speed vs Pandas Memory Efficiency Learning Curve\n",
            "Pandas            2.745490         1.000000          Baseline           Easy\n",
            "Polars            1.249089         2.197995            Better       Moderate\n",
            "DuckDB            1.724136         1.592386              Good     Easy (SQL)\n"
          ]
        }
      ]
    },
    {
      "cell_type": "code",
      "source": [
        "# Visualize performance comparison\n",
        "import matplotlib.pyplot as plt\n",
        "plt.figure(figsize=(12, 8))"
      ],
      "metadata": {
        "colab": {
          "base_uri": "https://localhost:8080/",
          "height": 53
        },
        "id": "H3XBQKPxfuQO",
        "outputId": "168669d2-c6a7-499a-a6c7-ad6d30504f64"
      },
      "execution_count": 15,
      "outputs": [
        {
          "output_type": "execute_result",
          "data": {
            "text/plain": [
              "<Figure size 1200x800 with 0 Axes>"
            ]
          },
          "metadata": {},
          "execution_count": 15
        },
        {
          "output_type": "display_data",
          "data": {
            "text/plain": [
              "<Figure size 1200x800 with 0 Axes>"
            ]
          },
          "metadata": {}
        }
      ]
    },
    {
      "cell_type": "code",
      "source": [
        "# Execution time comparison\n",
        "plt.subplot(2, 2, 1)\n",
        "bars = plt.bar(performance_data['Tool'], performance_data['Execution Time (s)'],\n",
        "               color=['#1f77b4', '#ff7f0e', '#2ca02c'])\n",
        "plt.title('Execution Time Comparison')\n",
        "plt.ylabel('Seconds')\n",
        "for i, bar in enumerate(bars):\n",
        "    plt.text(bar.get_x() + bar.get_width()/2, bar.get_height() + 0.1,\n",
        "             f'{performance_data[\"Execution Time (s)\"][i]:.2f}s',\n",
        "             ha='center', va='bottom')"
      ],
      "metadata": {
        "colab": {
          "base_uri": "https://localhost:8080/",
          "height": 251
        },
        "id": "dvk6jqZyf-DY",
        "outputId": "97465ba6-d3e6-4605-a2ed-944650ee6130"
      },
      "execution_count": 16,
      "outputs": [
        {
          "output_type": "display_data",
          "data": {
            "text/plain": [
              "<Figure size 640x480 with 1 Axes>"
            ],
            "image/png": "[encoded data removed]"
          },
          "metadata": {}
        }
      ]
    },
    {
      "cell_type": "code",
      "source": [
        "# Speed improvement comparison\n",
        "plt.subplot(2, 2, 2)\n",
        "bars = plt.bar(performance_data['Tool'], performance_data['Speed vs Pandas'],\n",
        "               color=['#1f77b4', '#ff7f0e', '#2ca02c'])\n",
        "plt.title('Speed Improvement vs Pandas')\n",
        "plt.ylabel('Times Faster')\n",
        "plt.axhline(y=1, color='red', linestyle='--', alpha=0.7, label='Pandas Baseline')\n",
        "for i, bar in enumerate(bars):\n",
        "    plt.text(bar.get_x() + bar.get_width()/2, bar.get_height() + 0.1,\n",
        "             f'{performance_data[\"Speed vs Pandas\"][i]:.1f}x',\n",
        "             ha='center', va='bottom')"
      ],
      "metadata": {
        "colab": {
          "base_uri": "https://localhost:8080/",
          "height": 251
        },
        "id": "55CgQaGxgBFZ",
        "outputId": "db069733-893c-453a-e343-15b1891b316e"
      },
      "execution_count": 17,
      "outputs": [
        {
          "output_type": "display_data",
          "data": {
            "text/plain": [
              "<Figure size 640x480 with 1 Axes>"
            ],
            "image/png": "[encoded data removed]"
          },
          "metadata": {}
        }
      ]
    },
    {
      "cell_type": "code",
      "source": [
        "\n",
        "# Customer distribution analysis\n",
        "plt.subplot(2, 2, 3)\n",
        "bins = np.logspace(0, 4, 30)\n",
        "plt.hist(pandas_result['total_spent'], bins=bins, alpha=0.7, label='Customer Spend Distribution')\n",
        "plt.xscale('log')\n",
        "plt.xlabel('Total Spent ($)')\n",
        "plt.ylabel('Number of Customers')\n",
        "plt.title('Customer Lifetime Value Distribution')\n",
        "plt.grid(True, alpha=0.3)"
      ],
      "metadata": {
        "colab": {
          "base_uri": "https://localhost:8080/",
          "height": 275
        },
        "id": "0ppFpGwxgGdX",
        "outputId": "9901c653-adf3-4458-d855-49e23477e52a"
      },
      "execution_count": 18,
      "outputs": [
        {
          "output_type": "display_data",
          "data": {
            "text/plain": [
              "<Figure size 640x480 with 1 Axes>"
            ],
            "image/png": "[encoded data removed]"
          },
          "metadata": {}
        }
      ]
    },
    {
      "cell_type": "code",
      "source": [
        "# Category analysis\n",
        "plt.subplot(2, 2, 4)\n",
        "category_counts = transactions_df['product_category'].value_counts()\n",
        "plt.pie(category_counts.values, labels=category_counts.index, autopct='%1.1f%%')\n",
        "plt.title('Product Category Distribution')\n",
        "plt.tight_layout()\n",
        "plt.show()"
      ],
      "metadata": {
        "colab": {
          "base_uri": "https://localhost:8080/",
          "height": 265
        },
        "id": "ivOv1r8ogKRW",
        "outputId": "e045cb4a-3b48-413b-a2ab-c9f5ec7b5289"
      },
      "execution_count": 19,
      "outputs": [
        {
          "output_type": "display_data",
          "data": {
            "text/plain": [
              "<Figure size 640x480 with 1 Axes>"
            ],
            "image/png": "[encoded data removed]"
          },
          "metadata": {}
        }
      ]
    },
    {
      "cell_type": "markdown",
      "source": [
        "# 🎯 SCENARIO 1 CONCLUSIONS\n",
        "\n",
        "\n",
        "---\n",
        "\n"
      ],
      "metadata": {
        "id": "PJuli_LZgTWN"
      }
    },
    {
      "cell_type": "code",
      "source": [
        "print(f\"\"\"\n",
        "For the Jupyter Notebook Data Scientist scenario with {len(transactions_df):,} transactions:\n",
        "\n",
        "🐼 PANDAS:\n",
        "   ✅ Familiar API, rich ecosystem\n",
        "   ✅ Excellent for visualization and exploration\n",
        "   ❌ Highest memory usage (~{pandas_result.memory_usage(deep=True).sum() / 1024**2:.0f}MB)\n",
        "   ❌ Slowest execution ({pandas_time:.2f}s)\n",
        "\n",
        "⚡ POLARS:\n",
        "   ✅ {pandas_time/polars_time:.1f}x faster than Pandas\n",
        "   ✅ Lower memory footprint\n",
        "   ✅ Expressive API similar to Pandas\n",
        "   ❌ Smaller ecosystem, some learning curve\n",
        "\n",
        "🦆 DUCKDB:\n",
        "   ✅ {pandas_time/duckdb_time:.1f}x faster than Pandas\n",
        "   ✅ SQL familiarity\n",
        "   ✅ Excellent for analytical queries\n",
        "   ✅ Direct parquet file querying\n",
        "   ❌ Less flexibility for complex transformations\n",
        "\n",
        "WINNER FOR THIS SCENARIO: DuckDB for SQL-comfortable teams, Polars for performance-focused Python teams\n",
        "\"\"\")"
      ],
      "metadata": {
        "colab": {
          "base_uri": "https://localhost:8080/"
        },
        "id": "Rh4zZyduhNMj",
        "outputId": "fdc89909-6bd4-4633-c77c-2013cc571d7d"
      },
      "execution_count": 20,
      "outputs": [
        {
          "output_type": "stream",
          "name": "stdout",
          "text": [
            "\n",
            "For the Jupyter Notebook Data Scientist scenario with 10,000,000 transactions:\n",
            "\n",
            "🐼 PANDAS:\n",
            "   ✅ Familiar API, rich ecosystem\n",
            "   ✅ Excellent for visualization and exploration\n",
            "   ❌ Highest memory usage (~8MB)\n",
            "   ❌ Slowest execution (2.75s)\n",
            "\n",
            "⚡ POLARS:\n",
            "   ✅ 2.2x faster than Pandas\n",
            "   ✅ Lower memory footprint\n",
            "   ✅ Expressive API similar to Pandas\n",
            "   ❌ Smaller ecosystem, some learning curve\n",
            "\n",
            "🦆 DUCKDB:\n",
            "   ✅ 1.6x faster than Pandas\n",
            "   ✅ SQL familiarity\n",
            "   ✅ Excellent for analytical queries\n",
            "   ✅ Direct parquet file querying\n",
            "   ❌ Less flexibility for complex transformations\n",
            "\n",
            "WINNER FOR THIS SCENARIO: DuckDB for SQL-comfortable teams, Polars for performance-focused Python teams\n",
            "\n"
          ]
        }
      ]
    }
  ]
}